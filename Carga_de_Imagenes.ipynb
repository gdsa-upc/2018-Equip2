{
 "cells": [
  {
   "cell_type": "code",
   "execution_count": 25,
   "metadata": {},
   "outputs": [],
   "source": [
    "import sklearn\n",
    "import pickle\n",
    "from PIL import Image, ImageOps\n",
    "import numpy as np\n",
    "import os\n",
    "from keras.preprocessing import image"
   ]
  },
  {
   "cell_type": "code",
   "execution_count": 26,
   "metadata": {},
   "outputs": [],
   "source": [
    "images_val_list = []\n",
    "\n",
    "for root, dirs, files in os.walk(\"/home/exla24/TB2018/val/images\", topdown=False): \n",
    "    for name in files:\n",
    "        #print(name)   \n",
    "        img = image.load_img(os.path.join(root, name), target_size=(224,224))\n",
    "        images_val_list.append(img)"
   ]
  },
  {
   "cell_type": "code",
   "execution_count": 27,
   "metadata": {},
   "outputs": [],
   "source": [
    "images_test_list = []\n",
    "\n",
    "for root, dirs, files in os.walk(\"/home/exla24/TB2018/test/images\", topdown=False): \n",
    "    for name in files:\n",
    "        #print(name)\n",
    "        img = image.load_img(os.path.join(root, name), target_size=(224,224))\n",
    "        images_test_list.append(img)"
   ]
  },
  {
   "cell_type": "code",
   "execution_count": 28,
   "metadata": {},
   "outputs": [],
   "source": [
    "images_train_list = []\n",
    "\n",
    "for root, dirs, files in os.walk(\"/home/exla24/TB2018/train/images\", topdown=False): \n",
    "    for name in files:\n",
    "        #print(name)\n",
    "        img = image.load_img(os.path.join(root, name), target_size=(224,224))\n",
    "        images_train_list.append(img)"
   ]
  },
  {
   "cell_type": "code",
   "execution_count": 29,
   "metadata": {},
   "outputs": [],
   "source": [
    "import pickle\n",
    "\n",
    "\n",
    "with open('/home/jupyter/Pickles/Imagenes/images_train.pickle', 'wb') as train:\n",
    "    pickle.dump(images_train_list, train, protocol=pickle.HIGHEST_PROTOCOL)\n",
    "\n",
    "with open('/home/jupyter/Pickles/Imagenes/images_validation.pickle', 'wb') as validation:\n",
    "    pickle.dump(images_val_list, validation, protocol=pickle.HIGHEST_PROTOCOL)\n",
    "\n",
    "with open('/home/jupyter/Pickles/Imagenes/images_test.pickle', 'wb') as test:\n",
    "    pickle.dump(images_test_list, test, protocol=pickle.HIGHEST_PROTOCOL)"
   ]
  },
  {
   "cell_type": "code",
   "execution_count": null,
   "metadata": {},
   "outputs": [],
   "source": []
  },
  {
   "cell_type": "code",
   "execution_count": null,
   "metadata": {},
   "outputs": [],
   "source": []
  }
 ],
 "metadata": {
  "kernelspec": {
   "display_name": "Python 3",
   "language": "python",
   "name": "python3"
  },
  "language_info": {
   "codemirror_mode": {
    "name": "ipython",
    "version": 3
   },
   "file_extension": ".py",
   "mimetype": "text/x-python",
   "name": "python",
   "nbconvert_exporter": "python",
   "pygments_lexer": "ipython3",
   "version": "3.5.3"
  }
 },
 "nbformat": 4,
 "nbformat_minor": 2
}
