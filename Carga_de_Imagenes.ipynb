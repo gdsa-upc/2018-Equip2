{
 "cells": [
  {
   "cell_type": "code",
   "execution_count": 17,
   "metadata": {},
   "outputs": [],
   "source": [
    "import sklearn\n",
    "import pickle\n",
    "from PIL import Image, ImageOps\n",
    "import numpy as np\n",
    "import os\n",
    "from keras.preprocessing import image"
   ]
  },
  {
   "cell_type": "code",
   "execution_count": 18,
   "metadata": {},
   "outputs": [],
   "source": [
    "images_val_list = []\n",
    "aux = []\n",
    "\n",
    "for root, dirs, files in os.walk(\"/home/exla24/TB2018/val/images\", topdown=False): \n",
    "    for name in files: \n",
    "        aux.append(name)\n",
    "aux.sort()"
   ]
  },
  {
   "cell_type": "code",
   "execution_count": 19,
   "metadata": {},
   "outputs": [],
   "source": [
    "for i in range(len(aux)):\n",
    "    img = image.load_img(\"/home/exla24/TB2018/val/images/\" + aux[i], target_size=(224,224))\n",
    "    images_val_list.append(img)"
   ]
  },
  {
   "cell_type": "code",
   "execution_count": 21,
   "metadata": {},
   "outputs": [],
   "source": [
    "images_test_list = []\n",
    "aux1 = []\n",
    "\n",
    "for root, dirs, files in os.walk(\"/home/exla24/TB2018/test/images\", topdown=False): \n",
    "    for name in files:\n",
    "        aux1.append(name)\n",
    "aux1.sort()"
   ]
  },
  {
   "cell_type": "code",
   "execution_count": 22,
   "metadata": {},
   "outputs": [],
   "source": [
    "for i in range(len(aux1)):\n",
    "    img = image.load_img(\"/home/exla24/TB2018/test/images/\" + aux1[i], target_size=(224,224))\n",
    "    images_test_list.append(img)"
   ]
  },
  {
   "cell_type": "code",
   "execution_count": 23,
   "metadata": {},
   "outputs": [],
   "source": [
    "images_train_list = []\n",
    "aux2 = []\n",
    "\n",
    "for root, dirs, files in os.walk(\"/home/exla24/TB2018/train/images\", topdown=False): \n",
    "    for name in files:\n",
    "        aux2.append(name)\n",
    "aux2.sort()"
   ]
  },
  {
   "cell_type": "code",
   "execution_count": 24,
   "metadata": {},
   "outputs": [],
   "source": [
    "for i in range(len(aux2)):\n",
    "    img = image.load_img(\"/home/exla24/TB2018/train/images/\" + aux2[i], target_size=(224,224))\n",
    "    images_train_list.append(img)"
   ]
  },
  {
   "cell_type": "code",
   "execution_count": 25,
   "metadata": {},
   "outputs": [],
   "source": [
    "import pickle\n",
    "\n",
    "\n",
    "with open('/home/jupyter/Pickles/Imagenes/images_train.pickle', 'wb') as train:\n",
    "    pickle.dump(images_train_list, train, protocol=pickle.HIGHEST_PROTOCOL)\n",
    "\n",
    "with open('/home/jupyter/Pickles/Imagenes/images_validation.pickle', 'wb') as validation:\n",
    "    pickle.dump(images_val_list, validation, protocol=pickle.HIGHEST_PROTOCOL)\n",
    "\n",
    "with open('/home/jupyter/Pickles/Imagenes/images_test.pickle', 'wb') as test:\n",
    "    pickle.dump(images_test_list, test, protocol=pickle.HIGHEST_PROTOCOL)"
   ]
  }
 ],
 "metadata": {
  "kernelspec": {
   "display_name": "Python 3",
   "language": "python",
   "name": "python3"
  },
  "language_info": {
   "codemirror_mode": {
    "name": "ipython",
    "version": 3
   },
   "file_extension": ".py",
   "mimetype": "text/x-python",
   "name": "python",
   "nbconvert_exporter": "python",
   "pygments_lexer": "ipython3",
   "version": "3.5.3"
  }
 },
 "nbformat": 4,
 "nbformat_minor": 2
}
