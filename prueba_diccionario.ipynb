{
 "cells": [
  {
   "cell_type": "code",
   "execution_count": 1,
   "metadata": {},
   "outputs": [
    {
     "name": "stderr",
     "output_type": "stream",
     "text": [
      "Using TensorFlow backend.\n"
     ]
    }
   ],
   "source": [
    "from keras.applications.vgg19 import VGG19\n",
    "from keras.models import Model\n",
    "from keras.applications.vgg19 import preprocess_input\n",
    "from keras.preprocessing import image\n",
    "import numpy as np\n",
    "import pickle\n",
    "import os"
   ]
  },
  {
   "cell_type": "code",
   "execution_count": 157,
   "metadata": {},
   "outputs": [],
   "source": [
    "base_model = VGG19(weights='imagenet')\n",
    "model = Model(inputs=base_model.input, outputs=base_model.get_layer('fc2').output)"
   ]
  },
  {
   "cell_type": "code",
   "execution_count": 194,
   "metadata": {},
   "outputs": [],
   "source": [
    "val = []"
   ]
  },
  {
   "cell_type": "code",
   "execution_count": 195,
   "metadata": {},
   "outputs": [],
   "source": [
    "# Leemos el archivo annotation.txt y guardamos los datos en un vector (por palabras)\n",
    "with open('/home/exla24/TB2018/val/annotation.txt','r') as f:\n",
    "    for line in f:\n",
    "        for word in line.split():\n",
    "           val.append(word)"
   ]
  },
  {
   "cell_type": "code",
   "execution_count": 196,
   "metadata": {},
   "outputs": [],
   "source": [
    "archivo_val = []\n",
    "etiqueta_val = []\n",
    "\n",
    "i = 0\n",
    "for i in range (len(val)):\n",
    "    if (i%2 == 0):           # Sabemos que las palabras pares del vector a serán las de archivo y las impares serán las etiquetas\n",
    "        archivo_val.append(val[i])\n",
    "    else:\n",
    "        etiqueta_val.append(val[i])"
   ]
  },
  {
   "cell_type": "code",
   "execution_count": 197,
   "metadata": {},
   "outputs": [],
   "source": [
    "# Ya tenemos en el vector archivos y etiquetas ordenados todo lo que necesitamos. Ahora crearemos el diccionario\n",
    "val_dict = dict()\n",
    "j=0\n",
    "for j in range (len(etiqueta_val)):\n",
    "    val_dict[j] = dict(etiquetas = etiqueta_val[j],archivos = archivo_val[j])"
   ]
  },
  {
   "cell_type": "code",
   "execution_count": 198,
   "metadata": {},
   "outputs": [],
   "source": [
    "# Haremos lo mismo con la carpeta train\n",
    "train = []"
   ]
  },
  {
   "cell_type": "code",
   "execution_count": 195,
   "metadata": {},
   "outputs": [],
   "source": [
    "# Leemos el archivo annotation.txt y guardamos los datos en un vector (por palabras)\n",
    "with open('/home/exla24/TB2018/train/annotation.txt','r') as f:\n",
    "    for line in f:\n",
    "        for word in line.split():\n",
    "           train.append(word)"
   ]
  },
  {
   "cell_type": "code",
   "execution_count": 196,
   "metadata": {},
   "outputs": [],
   "source": [
    "archivo_train = []\n",
    "etiqueta_train = []\n",
    "\n",
    "i = 0\n",
    "for i in range (len(train)):\n",
    "    if (i%2 == 0):           # Sabemos que las palabras pares del vector a serán las de archivo y las impares serán las etiquetas\n",
    "        archivo_train.append(train[i])\n",
    "    else:\n",
    "        etiqueta_train.append(train[i])"
   ]
  },
  {
   "cell_type": "code",
   "execution_count": 197,
   "metadata": {},
   "outputs": [],
   "source": [
    "# Ya tenemos en el vector archivos y etiquetas ordenados todo lo que necesitamos. Ahora crearemos el diccionario\n",
    "train_dict = dict()\n",
    "j=0\n",
    "for j in range (len(etiqueta_train)):\n",
    "    train_dict[j] = dict(etiquetas = etiqueta_train[j],archivos = archivo_train[j])"
   ]
  },
  {
   "cell_type": "code",
   "execution_count": null,
   "metadata": {},
   "outputs": [],
   "source": [
    "# Haremos lo mismo con la carpeta test\n",
    "test = []"
   ]
  },
  {
   "cell_type": "code",
   "execution_count": 195,
   "metadata": {},
   "outputs": [],
   "source": [
    "# Leemos el archivo annotation.txt y guardamos los datos en un vector (por palabras)\n",
    "with open('/home/exla24/TB2018/test/annotation.txt','r') as f:\n",
    "    for line in f:\n",
    "        for word in line.split():\n",
    "           test.append(word)"
   ]
  },
  {
   "cell_type": "code",
   "execution_count": 196,
   "metadata": {},
   "outputs": [],
   "source": [
    "archivo_test = []\n",
    "etiqueta_test = []\n",
    "\n",
    "i = 0\n",
    "for i in range (len(test)):\n",
    "    if (i%2 == 0):           # Sabemos que las palabras pares del vector a serán las de archivo y las impares serán las etiquetas\n",
    "        archivo_test.append(test[i])\n",
    "    else:\n",
    "        etiqueta_test.append(test[i])"
   ]
  },
  {
   "cell_type": "code",
   "execution_count": 197,
   "metadata": {},
   "outputs": [],
   "source": [
    "# Ya tenemos en el vector archivos y etiquetas ordenados todo lo que necesitamos. Ahora crearemos el diccionario\n",
    "test_dict = dict()\n",
    "j=0\n",
    "for j in range (len(etiqueta_test)):\n",
    "    test_dict[j] = dict(etiquetas = etiqueta_test[j],archivos = archivo_test[j])"
   ]
  }
 ],
 "metadata": {
  "kernelspec": {
   "display_name": "Python 3",
   "language": "python",
   "name": "python3"
  },
  "language_info": {
   "codemirror_mode": {
    "name": "ipython",
    "version": 3
   },
   "file_extension": ".py",
   "mimetype": "text/x-python",
   "name": "python",
   "nbconvert_exporter": "python",
   "pygments_lexer": "ipython3",
   "version": "3.5.3"
  }
 },
 "nbformat": 4,
 "nbformat_minor": 2
}
