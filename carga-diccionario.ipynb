{
 "cells": [
  {
   "cell_type": "code",
   "execution_count": 3,
   "metadata": {},
   "outputs": [
    {
     "name": "stderr",
     "output_type": "stream",
     "text": [
      "Using TensorFlow backend.\n"
     ]
    }
   ],
   "source": [
    "from keras.applications.vgg19 import VGG19\n",
    "from keras.models import Model\n",
    "from keras.applications.vgg19 import preprocess_input\n",
    "from keras.preprocessing import image\n",
    "import numpy as np\n",
    "import pickle\n",
    "import os"
   ]
  },
  {
   "cell_type": "code",
   "execution_count": 5,
   "metadata": {},
   "outputs": [],
   "source": [
    "val = []"
   ]
  },
  {
   "cell_type": "code",
   "execution_count": 6,
   "metadata": {},
   "outputs": [],
   "source": [
    "# Leemos el archivo annotation.txt y guardamos los datos en un vector (por palabras)\n",
    "with open('/home/exla24/TB2018/val/annotation.txt','r') as f:\n",
    "    for line in f:\n",
    "        for word in line.split():\n",
    "           val.append(word)"
   ]
  },
  {
   "cell_type": "code",
   "execution_count": 7,
   "metadata": {},
   "outputs": [],
   "source": [
    "archivo_val = []\n",
    "etiqueta_val = []\n",
    "\n",
    "i = 0\n",
    "for i in range (len(val)):\n",
    "    if (i%2 == 0):           # Sabemos que las palabras pares del vector a serán las de archivo y las impares serán las etiquetas\n",
    "        archivo_val.append(val[i])\n",
    "    else:\n",
    "        etiqueta_val.append(val[i])"
   ]
  },
  {
   "cell_type": "code",
   "execution_count": 8,
   "metadata": {},
   "outputs": [],
   "source": [
    "# Ya tenemos en el vector archivos y etiquetas ordenados todo lo que necesitamos. Ahora crearemos el diccionario\n",
    "val_dict = dict()\n",
    "j=0\n",
    "for j in range (len(etiqueta_val)):\n",
    "    val_dict[j] = dict(etiquetas = etiqueta_val[j],archivos = archivo_val[j])"
   ]
  },
  {
   "cell_type": "code",
   "execution_count": 9,
   "metadata": {},
   "outputs": [],
   "source": [
    "# Haremos lo mismo con la carpeta train\n",
    "train = []"
   ]
  },
  {
   "cell_type": "code",
   "execution_count": 10,
   "metadata": {},
   "outputs": [],
   "source": [
    "# Leemos el archivo annotation.txt y guardamos los datos en un vector (por palabras)\n",
    "with open('/home/exla24/TB2018/train/annotation.txt','r') as f:\n",
    "    for line in f:\n",
    "        for word in line.split():\n",
    "           train.append(word)"
   ]
  },
  {
   "cell_type": "code",
   "execution_count": 11,
   "metadata": {},
   "outputs": [],
   "source": [
    "archivo_train = []\n",
    "etiqueta_train = []\n",
    "\n",
    "i = 0\n",
    "for i in range (len(train)):\n",
    "    if (i%2 == 0):           # Sabemos que las palabras pares del vector a serán las de archivo y las impares serán las etiquetas\n",
    "        archivo_train.append(train[i])\n",
    "    else:\n",
    "        etiqueta_train.append(train[i])"
   ]
  },
  {
   "cell_type": "code",
   "execution_count": 12,
   "metadata": {},
   "outputs": [],
   "source": [
    "# Ya tenemos en el vector archivos y etiquetas ordenados todo lo que necesitamos. Ahora crearemos el diccionario\n",
    "train_dict = dict()\n",
    "j=0\n",
    "for j in range (len(etiqueta_train)):\n",
    "    train_dict[j] = dict(etiquetas = etiqueta_train[j],archivos = archivo_train[j])"
   ]
  },
  {
   "cell_type": "code",
   "execution_count": 13,
   "metadata": {},
   "outputs": [],
   "source": [
    "# Haremos lo mismo con la carpeta test\n",
    "test = []"
   ]
  },
  {
   "cell_type": "code",
   "execution_count": 14,
   "metadata": {},
   "outputs": [],
   "source": [
    "# Leemos el archivo annotation.txt y guardamos los datos en un vector (por palabras)\n",
    "with open('/home/exla24/TB2018/test/annotation.txt','r') as f:\n",
    "    for line in f:\n",
    "        for word in line.split():\n",
    "           test.append(word)"
   ]
  },
  {
   "cell_type": "code",
   "execution_count": 15,
   "metadata": {},
   "outputs": [],
   "source": [
    "archivo_test = []\n",
    "etiqueta_test = []\n",
    "\n",
    "i = 0\n",
    "for i in range (len(test)):\n",
    "    if (i%2 == 0):           # Sabemos que las palabras pares del vector a serán las de archivo y las impares serán las etiquetas\n",
    "        archivo_test.append(test[i])\n",
    "    else:\n",
    "        etiqueta_test.append(test[i])"
   ]
  },
  {
   "cell_type": "code",
   "execution_count": 16,
   "metadata": {},
   "outputs": [],
   "source": [
    "# Ya tenemos en el vector archivos y etiquetas ordenados todo lo que necesitamos. Ahora crearemos el diccionario\n",
    "test_dict = dict()\n",
    "j=0\n",
    "for j in range (len(etiqueta_test)):\n",
    "    test_dict[j] = dict(etiquetas = etiqueta_test[j],archivos = archivo_test[j])"
   ]
  },
  {
   "cell_type": "code",
   "execution_count": 24,
   "metadata": {},
   "outputs": [],
   "source": [
    "pickle.dump(val_dict, open(\"/home/jupyter/Pickles/Etiquetas/diccionario_validacion\", \"wb\"))"
   ]
  },
  {
   "cell_type": "code",
   "execution_count": 25,
   "metadata": {},
   "outputs": [],
   "source": [
    "pickle.dump(train_dict, open(\"/home/jupyter/Pickles/Etiquetas/diccionario_entrenamiento\", \"wb\"))"
   ]
  },
  {
   "cell_type": "code",
   "execution_count": 26,
   "metadata": {},
   "outputs": [],
   "source": [
    "pickle.dump(test_dict, open(\"/home/jupyter/Pickles/Etiquetas/diccionario_test\", \"wb\"))"
   ]
  }
 ],
 "metadata": {
  "kernelspec": {
   "display_name": "Python 3",
   "language": "python",
   "name": "python3"
  },
  "language_info": {
   "codemirror_mode": {
    "name": "ipython",
    "version": 3
   },
   "file_extension": ".py",
   "mimetype": "text/x-python",
   "name": "python",
   "nbconvert_exporter": "python",
   "pygments_lexer": "ipython3",
   "version": "3.5.3"
  }
 },
 "nbformat": 4,
 "nbformat_minor": 2
}
