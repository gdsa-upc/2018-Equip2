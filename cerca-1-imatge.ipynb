{
 "cells": [
  {
   "cell_type": "code",
   "execution_count": 91,
   "metadata": {},
   "outputs": [],
   "source": [
    "from sklearn import preprocessing\n",
    "import pickle\n",
    "from PIL import Image, ImageOps\n",
    "import numpy as np"
   ]
  },
  {
   "cell_type": "code",
   "execution_count": 92,
   "metadata": {},
   "outputs": [],
   "source": [
    "#cargar de un pickle\n",
    "\n",
    "with open('train.pickle', 'rb') as train:\n",
    "    train_list = pickle.load(train)\n",
    "\n",
    "\n",
    "with open('validation.pickle', 'rb') as validation:\n",
    "    validation_list = pickle.load(validation)"
   ]
  },
  {
   "cell_type": "code",
   "execution_count": 93,
   "metadata": {},
   "outputs": [
    {
     "name": "stdout",
     "output_type": "stream",
     "text": [
      "a shape: (4096, 1195)\n"
     ]
    },
    {
     "ename": "ValueError",
     "evalue": "shapes (4096,1195) and (4096,) not aligned: 1195 (dim 1) != 4096 (dim 0)",
     "output_type": "error",
     "traceback": [
      "\u001b[0;31m---------------------------------------------------------------------------\u001b[0m",
      "\u001b[0;31mValueError\u001b[0m                                Traceback (most recent call last)",
      "\u001b[0;32m<ipython-input-93-26ee2926cc60>\u001b[0m in \u001b[0;36m<module>\u001b[0;34m\u001b[0m\n\u001b[1;32m     14\u001b[0m \u001b[0mprint\u001b[0m\u001b[0;34m(\u001b[0m\u001b[0;34m'a shape:'\u001b[0m\u001b[0;34m,\u001b[0m \u001b[0ma\u001b[0m\u001b[0;34m.\u001b[0m\u001b[0mshape\u001b[0m\u001b[0;34m)\u001b[0m\u001b[0;34m\u001b[0m\u001b[0m\n\u001b[1;32m     15\u001b[0m \u001b[0;34m\u001b[0m\u001b[0m\n\u001b[0;32m---> 16\u001b[0;31m \u001b[0mres\u001b[0m\u001b[0;34m=\u001b[0m \u001b[0mnp\u001b[0m\u001b[0;34m.\u001b[0m\u001b[0mmatmul\u001b[0m\u001b[0;34m(\u001b[0m\u001b[0ma\u001b[0m\u001b[0;34m,\u001b[0m \u001b[0mimage_v\u001b[0m\u001b[0;34m)\u001b[0m\u001b[0;34m\u001b[0m\u001b[0m\n\u001b[0m\u001b[1;32m     17\u001b[0m \u001b[0;34m\u001b[0m\u001b[0m\n\u001b[1;32m     18\u001b[0m \u001b[0mranks\u001b[0m \u001b[0;34m=\u001b[0m \u001b[0mnp\u001b[0m\u001b[0;34m.\u001b[0m\u001b[0margsort\u001b[0m\u001b[0;34m(\u001b[0m\u001b[0mres\u001b[0m\u001b[0;34m,\u001b[0m \u001b[0maxis\u001b[0m\u001b[0;34m=\u001b[0m\u001b[0;36m1\u001b[0m\u001b[0;34m)\u001b[0m\u001b[0;34m[\u001b[0m\u001b[0;34m:\u001b[0m\u001b[0;34m,\u001b[0m\u001b[0;34m:\u001b[0m\u001b[0;34m:\u001b[0m\u001b[0;34m-\u001b[0m\u001b[0;36m1\u001b[0m\u001b[0;34m]\u001b[0m\u001b[0;34m\u001b[0m\u001b[0m\n",
      "\u001b[0;31mValueError\u001b[0m: shapes (4096,1195) and (4096,) not aligned: 1195 (dim 1) != 4096 (dim 0)"
     ]
    }
   ],
   "source": [
    "#cerca con una imagen\n",
    "\n",
    "image_v=validation_list[0,:]\n",
    "\n",
    "\n",
    "# l2-normalize the samples (rows). \n",
    "# validation_n = preprocessing.normalize(image_v, norm='l2')\n",
    "# train_n = preprocessing.normalize(train_list, norm='l2')\n",
    "\n",
    "# print('validation_n shape:', validation_n.shape)\n",
    "# print('train_n shape:', train_n.shape)\n",
    "\n",
    "a= train_list.transpose()\n",
    "print('a shape:', a.shape)\n",
    "\n",
    "res= np.matmul(a, image_v)\n",
    "\n",
    "ranks = np.argsort(res, axis=1)[:,::-1]\n",
    "\n",
    "h,w = (224,224)\n",
    "new_image= Image.new('RGB', (h*15,w*10))\n",
    "\n",
    "# Visualize ranks of the 10 queries\n",
    "offset = 40 # it will show results from query #'offset' to #offset+10\n",
    "for q in range(1):\n",
    "      ranks_q = ranks[offset,:]\n",
    "      for i in range(15):\n",
    "        new_image.paste( Image.fromarray(train_list[ranks_q[i]]), (h*(1+i),w*q ))\n",
    "  \n",
    "        # visualize query\n",
    "  \n",
    "      ima_q = Image.fromarray(val[offset])\n",
    "  \n",
    "      ima_q = ImageOps.expand(ima_q, border=15, fill='green')   \n",
    "  \n",
    "      new_image.paste(ima_q, (0,w*q))\n",
    "\n",
    "plt.imshow(new_image)\n",
    "plt.axis('off')\n",
    "plt.show()"
   ]
  },
  {
   "cell_type": "code",
   "execution_count": null,
   "metadata": {},
   "outputs": [],
   "source": []
  }
 ],
 "metadata": {
  "kernelspec": {
   "display_name": "Python 3",
   "language": "python",
   "name": "python3"
  },
  "language_info": {
   "codemirror_mode": {
    "name": "ipython",
    "version": 3
   },
   "file_extension": ".py",
   "mimetype": "text/x-python",
   "name": "python",
   "nbconvert_exporter": "python",
   "pygments_lexer": "ipython3",
   "version": "3.5.3"
  }
 },
 "nbformat": 4,
 "nbformat_minor": 2
}
