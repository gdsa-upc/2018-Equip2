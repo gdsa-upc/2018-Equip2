{
 "cells": [
  {
   "cell_type": "code",
   "execution_count": 1,
   "metadata": {},
   "outputs": [],
   "source": [
    "from sklearn import preprocessing\n",
    "import pickle\n",
    "from PIL import Image, ImageOps\n",
    "import numpy as np"
   ]
  },
  {
   "cell_type": "code",
   "execution_count": 2,
   "metadata": {},
   "outputs": [],
   "source": [
    "#cargar de un pickle\n",
    "\n",
    "with open('train.pickle', 'rb') as train:\n",
    "    train_list = pickle.load(train)\n",
    "\n",
    "\n",
    "with open('validation.pickle', 'rb') as validation:\n",
    "    validation_list = pickle.load(validation)"
   ]
  },
  {
   "cell_type": "code",
   "execution_count": null,
   "metadata": {},
   "outputs": [],
   "source": [
    "#cerca con todas las imagenes\n",
    "\n",
    "val= validation_list.transpose()\n",
    "print('val shape:', val.shape)\n",
    "print('train_list shape:', train_list.shape)\n",
    "\n",
    "res= np.matmul(val,validation_list)\n",
    "print('res shape:', res.shape)\n",
    "ranks = np.argsort(res, axis=1)[:,::-1]\n",
    "\n",
    "from PIL import Image, ImageOps\n",
    "\n",
    "h,w = (224, 224)\n",
    "new_image= Image.new('RGB', (h*15,w*10))\n",
    "\n",
    "# Visualize ranks of the 10 queries\n",
    "offset = 900 # it will show results from query #'offset' to #offset+10\n",
    "for q in range(10):\n",
    "  ranks_q = ranks[q*(offset+1),:]\n",
    "  for i in range(15):\n",
    "      new_image.paste(Image.fromarray(train_list[ranks_q[i]]), (h*(1+i),w*q))\n",
    "  # visualize query\n",
    "  ima_q = Image.fromarray(val[q*(offset+1)])\n",
    "  ima_q = ImageOps.expand(ima_q, border=15, fill='green')\n",
    "\n",
    "  new_image.paste(ima_q, (0,w*q))\n",
    "\n",
    "plt.imshow(new_image)\n",
    "plt.axis('off')\n",
    "plt.show()"
   ]
  }
 ],
 "metadata": {
  "kernelspec": {
   "display_name": "Python 3",
   "language": "python",
   "name": "python3"
  },
  "language_info": {
   "codemirror_mode": {
    "name": "ipython",
    "version": 3
   },
   "file_extension": ".py",
   "mimetype": "text/x-python",
   "name": "python",
   "nbconvert_exporter": "python",
   "pygments_lexer": "ipython3",
   "version": "3.5.3"
  }
 },
 "nbformat": 4,
 "nbformat_minor": 2
}
