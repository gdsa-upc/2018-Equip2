{
 "cells": [
  {
   "cell_type": "code",
   "execution_count": 9,
   "metadata": {},
   "outputs": [],
   "source": [
    "import sklearn\n",
    "import pickle\n",
    "from PIL import Image, ImageOps\n",
    "import numpy as np\n",
    "import os\n",
    "from keras.preprocessing import image"
   ]
  },
  {
   "cell_type": "code",
   "execution_count": 10,
   "metadata": {},
   "outputs": [],
   "source": [
    "BD_val_list = []\n",
    "aux = []\n",
    "\n",
    "for root, dirs, files in os.walk(\"/home/jupyter/NovaBD/Val/\", topdown=False): \n",
    "    for name in files: \n",
    "        aux.append(name)"
   ]
  },
  {
   "cell_type": "code",
   "execution_count": 11,
   "metadata": {},
   "outputs": [],
   "source": [
    "for i in range(len(aux)):\n",
    "    img = image.load_img(\"/home/jupyter/NovaBD/Val/\" + aux[i], target_size=(224,224))\n",
    "    BD_val_list.append(img)"
   ]
  },
  {
   "cell_type": "code",
   "execution_count": 12,
   "metadata": {},
   "outputs": [
    {
     "data": {
      "text/plain": [
       "1673"
      ]
     },
     "execution_count": 12,
     "metadata": {},
     "output_type": "execute_result"
    }
   ],
   "source": [
    "len(BD_val_list)"
   ]
  },
  {
   "cell_type": "code",
   "execution_count": 13,
   "metadata": {},
   "outputs": [],
   "source": [
    "BD_train_list = []\n",
    "aux2 = []\n",
    "\n",
    "for root, dirs, files in os.walk(\"/home/jupyter/NovaBD/Train/\", topdown=False): \n",
    "    for name2 in files:\n",
    "        aux2.append(name2)"
   ]
  },
  {
   "cell_type": "code",
   "execution_count": 20,
   "metadata": {},
   "outputs": [],
   "source": [
    "del aux2[0]"
   ]
  },
  {
   "cell_type": "code",
   "execution_count": 21,
   "metadata": {},
   "outputs": [],
   "source": [
    "for i in range(len(aux2)):\n",
    "    img2 = image.load_img(\"/home/jupyter/NovaBD/Train/\" + aux2[i], target_size=(224,224))\n",
    "    BD_train_list.append(img2)"
   ]
  },
  {
   "cell_type": "code",
   "execution_count": 23,
   "metadata": {},
   "outputs": [],
   "source": [
    "import pickle\n",
    "\n",
    "\n",
    "with open('/home/jupyter/Pickles/Imagenes_NovaBD/BD_train.pickle', 'wb') as train:\n",
    "    pickle.dump(BD_train_list, train, protocol=pickle.HIGHEST_PROTOCOL)\n",
    "\n",
    "with open('/home/jupyter/Pickles/Imagenes_NovaBD/BD_validation.pickle', 'wb') as validation:\n",
    "    pickle.dump(BD_val_list, validation, protocol=pickle.HIGHEST_PROTOCOL)"
   ]
  },
  {
   "cell_type": "code",
   "execution_count": null,
   "metadata": {},
   "outputs": [],
   "source": []
  }
 ],
 "metadata": {
  "kernelspec": {
   "display_name": "Python 3",
   "language": "python",
   "name": "python3"
  },
  "language_info": {
   "codemirror_mode": {
    "name": "ipython",
    "version": 3
   },
   "file_extension": ".py",
   "mimetype": "text/x-python",
   "name": "python",
   "nbconvert_exporter": "python",
   "pygments_lexer": "ipython3",
   "version": "3.5.3"
  }
 },
 "nbformat": 4,
 "nbformat_minor": 2
}
